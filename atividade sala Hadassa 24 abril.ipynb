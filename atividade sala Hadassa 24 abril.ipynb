{
  "nbformat": 4,
  "nbformat_minor": 0,
  "metadata": {
    "colab": {
      "provenance": []
    },
    "kernelspec": {
      "name": "python3",
      "display_name": "Python 3"
    },
    "language_info": {
      "name": "python"
    }
  },
  "cells": [
    {
      "cell_type": "code",
      "execution_count": 2,
      "metadata": {
        "colab": {
          "base_uri": "https://localhost:8080/"
        },
        "id": "LBlLZ8hCRpzb",
        "outputId": "9c6d0ba6-d49c-4872-98f4-1c271bc01648"
      },
      "outputs": [
        {
          "output_type": "stream",
          "name": "stdout",
          "text": [
            "[76, 92.3, 'oi', True, 4, 76, 'Pitomba', 76]\n"
          ]
        }
      ],
      "source": [
        "#A\n",
        "minhaLista= [76, 92.3, 'oi', True, 4, 76]\n",
        "minhaLista2= ['Pitomba', 76]\n",
        "minhaLista3= minhaLista + minhaLista2\n",
        "print(minhaLista3)"
      ]
    },
    {
      "cell_type": "code",
      "source": [
        "#B\n",
        "novaLista= (minhaLista[:3] + ['Cibele'] + minhaLista[3:])\n",
        "print(minhaLista + novaLista)"
      ],
      "metadata": {
        "colab": {
          "base_uri": "https://localhost:8080/"
        },
        "id": "0pFyQp7GTLLK",
        "outputId": "b13e73ec-a0f7-4816-82e0-765114493427"
      },
      "execution_count": 5,
      "outputs": [
        {
          "output_type": "stream",
          "name": "stdout",
          "text": [
            "[76, 92.3, 'oi', True, 4, 76, 76, 92.3, 'oi', 'Cibele', True, 4, 76]\n"
          ]
        }
      ]
    },
    {
      "cell_type": "code",
      "source": [
        "#C\n",
        "print(novaLista)\n",
        "valor = [99]\n",
        "valor=(valor+minhaLista)\n",
        "print(valor)"
      ],
      "metadata": {
        "colab": {
          "base_uri": "https://localhost:8080/"
        },
        "id": "8oa13ONHVLcr",
        "outputId": "02cf6e07-9d3f-435b-8de6-b525d60e2705"
      },
      "execution_count": 6,
      "outputs": [
        {
          "output_type": "stream",
          "name": "stdout",
          "text": [
            "[76, 92.3, 'oi', 'Cibele', True, 4, 76]\n",
            "[99, 76, 92.3, 'oi', True, 4, 76]\n"
          ]
        }
      ]
    },
    {
      "cell_type": "code",
      "source": [
        "#D\n",
        "minhaLista= [76, 92.3, 'oi', True, 4, 76]\n",
        "if(minhaLista[0] == 'oi'):\n",
        "  print('o indicie procurado é o zero')\n",
        "elif(minhaLista[1] == 'oi'):\n",
        "  print('o indicie procurado é o primeiro')\n",
        "elif(minhaLista[2] == 'oi'):\n",
        "  print('o indicie procurado é o segundo')\n",
        "elif(minhaLista[3] == 'oi'):\n",
        "  print('o indicie procurado é o terceiro')\n",
        "elif(minhaLista[4] == 'oi'):\n",
        "  print('o indicie procurado é o quarto')\n",
        "elif(minhaLista[5] == 'oi'):\n",
        "  print('o indicie procurado é o quinto')"
      ],
      "metadata": {
        "colab": {
          "base_uri": "https://localhost:8080/"
        },
        "id": "DJXXwzX8WBa0",
        "outputId": "0f26a8f8-f5be-4473-fb29-c7b862bb05ef"
      },
      "execution_count": 7,
      "outputs": [
        {
          "output_type": "stream",
          "name": "stdout",
          "text": [
            "o indicie procurado é o segundo\n"
          ]
        }
      ]
    },
    {
      "cell_type": "code",
      "source": [
        "#E\n",
        "minhaLista= [76, 92.3, 'oi', True, 4, 76]\n",
        "novaLista= [4, 76]\n",
        "print(minhaLista[:3] + novaLista)"
      ],
      "metadata": {
        "colab": {
          "base_uri": "https://localhost:8080/"
        },
        "id": "aPxBfxcqZLiX",
        "outputId": "a95bfd82-49e2-42a9-faa3-12110caa7d14"
      },
      "execution_count": 8,
      "outputs": [
        {
          "output_type": "stream",
          "name": "stdout",
          "text": [
            "[76, 92.3, 'oi', 4, 76]\n"
          ]
        }
      ]
    },
    {
      "cell_type": "code",
      "source": [
        "#prática1\n",
        "tupla_numeros= 10,20,20\n",
        "print(tupla_numeros)\n",
        "tupla_elemento = 10\n",
        "print(tupla_elemento)"
      ],
      "metadata": {
        "colab": {
          "base_uri": "https://localhost:8080/"
        },
        "id": "PG3cLboZaCIS",
        "outputId": "7da09172-052d-4080-d683-544ec1614784"
      },
      "execution_count": 9,
      "outputs": [
        {
          "output_type": "stream",
          "name": "stdout",
          "text": [
            "(10, 20, 20)\n",
            "10\n"
          ]
        }
      ]
    },
    {
      "cell_type": "code",
      "source": [
        "nova_tupla = tuple('teste')\n",
        "print(nova_tupla)\n",
        "tupla_nomes =('Marlene', 'zezinho', 'Marlene', 'Cybele', 'Zuely')\n",
        "tupla_nomes.count('\\arlene')\n",
        "print(tupla_nomes.count('suely'))\n",
        "print(tupla_nomes.count('Zezinho'))\n",
        "tupla_numero = 1,2,2,3,4,4,4,5\n",
        "print(tupla_numero.count(4))"
      ],
      "metadata": {
        "colab": {
          "base_uri": "https://localhost:8080/"
        },
        "id": "MtzorCyEbFDo",
        "outputId": "e09729c1-6890-4cc5-984f-fdd0ee9b16aa"
      },
      "execution_count": 11,
      "outputs": [
        {
          "output_type": "stream",
          "name": "stdout",
          "text": [
            "('t', 'e', 's', 't', 'e')\n",
            "0\n",
            "0\n",
            "3\n"
          ]
        }
      ]
    }
  ]
}